{
 "cells": [
  {
   "cell_type": "code",
   "execution_count": 21,
   "id": "e22001bd-713f-4c49-91fa-456c975c42d2",
   "metadata": {},
   "outputs": [
    {
     "name": "stdin",
     "output_type": "stream",
     "text": [
      "Enter a number:  123\n"
     ]
    },
    {
     "name": "stdout",
     "output_type": "stream",
     "text": [
      "123\n",
      "Not a Armstrong Number...\n"
     ]
    }
   ],
   "source": [
    "num = input(\"Enter a number: \")\n",
    "temp = num\n",
    "print(temp)\n",
    "l = len(num)\n",
    "add=0\n",
    "while int(num)>0:\n",
    "    digit = int(num)%10\n",
    "    add = add+(digit**l)\n",
    "    num = int(num)//10\n",
    "if (add==int(temp)):\n",
    "    print(\"Armstromg Number...\")\n",
    "else:\n",
    "    print(\"Not a Armstrong Number...\")"
   ]
  }
 ],
 "metadata": {
  "kernelspec": {
   "display_name": "Python 3 (ipykernel)",
   "language": "python",
   "name": "python3"
  },
  "language_info": {
   "codemirror_mode": {
    "name": "ipython",
    "version": 3
   },
   "file_extension": ".py",
   "mimetype": "text/x-python",
   "name": "python",
   "nbconvert_exporter": "python",
   "pygments_lexer": "ipython3",
   "version": "3.12.5"
  }
 },
 "nbformat": 4,
 "nbformat_minor": 5
}
