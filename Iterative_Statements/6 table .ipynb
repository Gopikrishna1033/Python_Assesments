{
 "cells": [
  {
   "cell_type": "code",
   "execution_count": 1,
   "id": "abcf1c63-1740-4a27-a5f7-69fa091fd49f",
   "metadata": {},
   "outputs": [
    {
     "name": "stdout",
     "output_type": "stream",
     "text": [
      "6*1= 6\n",
      "6*2= 12\n",
      "6*3= 18\n",
      "6*4= 24\n",
      "6*5= 30\n",
      "6*6= 36\n",
      "6*7= 42\n",
      "6*8= 48\n",
      "6*9= 54\n",
      "6*10= 60\n"
     ]
    }
   ],
   "source": [
    "for i in range(1,11):\n",
    "    print(f\"6*{i}= {6*i}\")"
   ]
  }
 ],
 "metadata": {
  "kernelspec": {
   "display_name": "Python 3 (ipykernel)",
   "language": "python",
   "name": "python3"
  },
  "language_info": {
   "codemirror_mode": {
    "name": "ipython",
    "version": 3
   },
   "file_extension": ".py",
   "mimetype": "text/x-python",
   "name": "python",
   "nbconvert_exporter": "python",
   "pygments_lexer": "ipython3",
   "version": "3.12.5"
  }
 },
 "nbformat": 4,
 "nbformat_minor": 5
}
