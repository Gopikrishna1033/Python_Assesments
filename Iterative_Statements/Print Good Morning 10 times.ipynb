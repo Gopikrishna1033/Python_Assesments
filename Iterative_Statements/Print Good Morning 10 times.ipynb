{
 "cells": [
  {
   "cell_type": "code",
   "execution_count": 1,
   "id": "fc5f6509-f7d9-4da1-b81f-3227c068ec73",
   "metadata": {},
   "outputs": [
    {
     "name": "stdout",
     "output_type": "stream",
     "text": [
      "Good morning\n",
      "Good morning\n",
      "Good morning\n",
      "Good morning\n",
      "Good morning\n",
      "Good morning\n",
      "Good morning\n",
      "Good morning\n",
      "Good morning\n",
      "Good morning\n"
     ]
    }
   ],
   "source": [
    "for i in range(1,11):\n",
    "    print(\"Good morning\")"
   ]
  }
 ],
 "metadata": {
  "kernelspec": {
   "display_name": "Python 3 (ipykernel)",
   "language": "python",
   "name": "python3"
  },
  "language_info": {
   "codemirror_mode": {
    "name": "ipython",
    "version": 3
   },
   "file_extension": ".py",
   "mimetype": "text/x-python",
   "name": "python",
   "nbconvert_exporter": "python",
   "pygments_lexer": "ipython3",
   "version": "3.12.5"
  }
 },
 "nbformat": 4,
 "nbformat_minor": 5
}
