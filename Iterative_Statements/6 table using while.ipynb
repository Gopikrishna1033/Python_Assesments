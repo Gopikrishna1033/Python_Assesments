{
 "cells": [
  {
   "cell_type": "code",
   "execution_count": null,
   "id": "634f3870-1968-42e6-9c57-265b646db000",
   "metadata": {},
   "outputs": [],
   "source": []
  }
 ],
 "metadata": {
  "kernelspec": {
   "display_name": "",
   "name": ""
  },
  "language_info": {
   "name": ""
  }
 },
 "nbformat": 4,
 "nbformat_minor": 5
}
