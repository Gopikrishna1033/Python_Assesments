{
 "cells": [
  {
   "cell_type": "code",
   "execution_count": 1,
   "id": "daf28f80-e89c-4de2-a6cb-60113a9b57ce",
   "metadata": {},
   "outputs": [
    {
     "name": "stdout",
     "output_type": "stream",
     "text": [
      "* * *  \n",
      "* * *  \n",
      "* * *  \n"
     ]
    }
   ],
   "source": [
    "for i in range (1,4):\n",
    "    for j in range(1,4):\n",
    "        print (\"*\",end=\" \")\n",
    "    print(\" \")"
   ]
  }
 ],
 "metadata": {
  "kernelspec": {
   "display_name": "Python 3 (ipykernel)",
   "language": "python",
   "name": "python3"
  },
  "language_info": {
   "codemirror_mode": {
    "name": "ipython",
    "version": 3
   },
   "file_extension": ".py",
   "mimetype": "text/x-python",
   "name": "python",
   "nbconvert_exporter": "python",
   "pygments_lexer": "ipython3",
   "version": "3.12.5"
  }
 },
 "nbformat": 4,
 "nbformat_minor": 5
}
