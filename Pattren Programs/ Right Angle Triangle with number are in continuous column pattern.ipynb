{
 "cells": [
  {
   "cell_type": "code",
   "execution_count": 32,
   "id": "9ae9becb-af2f-4437-bb49-6ddf10d8ccc9",
   "metadata": {},
   "outputs": [
    {
     "name": "stdin",
     "output_type": "stream",
     "text": [
      "Enter a integer:  6\n"
     ]
    },
    {
     "name": "stdout",
     "output_type": "stream",
     "text": [
      "1  \n",
      "2 7  \n",
      "3 8 12  \n",
      "4 9 13 16  \n",
      "5 10 14 17 19  \n",
      "6 11 15 18 20 21  \n"
     ]
    }
   ],
   "source": [
    "num = int(input(\"Enter a integer: \"))\n",
    "for i in range(num):\n",
    "    value=i+1\n",
    "    dec = num-1\n",
    "    for j in range(i+1):\n",
    "        print(value,end=\" \")\n",
    "        value+=dec\n",
    "        dec-=1\n",
    "    print(\" \")"
   ]
  }
 ],
 "metadata": {
  "kernelspec": {
   "display_name": "Python 3 (ipykernel)",
   "language": "python",
   "name": "python3"
  },
  "language_info": {
   "codemirror_mode": {
    "name": "ipython",
    "version": 3
   },
   "file_extension": ".py",
   "mimetype": "text/x-python",
   "name": "python",
   "nbconvert_exporter": "python",
   "pygments_lexer": "ipython3",
   "version": "3.12.5"
  }
 },
 "nbformat": 4,
 "nbformat_minor": 5
}
