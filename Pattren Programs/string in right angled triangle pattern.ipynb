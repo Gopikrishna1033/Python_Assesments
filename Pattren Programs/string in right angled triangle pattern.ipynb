{
 "cells": [
  {
   "cell_type": "code",
   "execution_count": 5,
   "id": "27a7b75a-2110-48a3-9bc2-97fa7ea0e240",
   "metadata": {},
   "outputs": [
    {
     "name": "stdout",
     "output_type": "stream",
     "text": [
      "P  \n",
      "P y  \n",
      "P y t  \n",
      "P y t h  \n",
      "P y t h o  \n",
      "P y t h o n  \n"
     ]
    }
   ],
   "source": [
    "string = \"Python\"\n",
    "for i in range(0,6):\n",
    "    for j in range(0,i+1):\n",
    "        print(string[j],end=\" \")\n",
    "    print(\" \")"
   ]
  }
 ],
 "metadata": {
  "kernelspec": {
   "display_name": "Python 3 (ipykernel)",
   "language": "python",
   "name": "python3"
  },
  "language_info": {
   "codemirror_mode": {
    "name": "ipython",
    "version": 3
   },
   "file_extension": ".py",
   "mimetype": "text/x-python",
   "name": "python",
   "nbconvert_exporter": "python",
   "pygments_lexer": "ipython3",
   "version": "3.12.5"
  }
 },
 "nbformat": 4,
 "nbformat_minor": 5
}
