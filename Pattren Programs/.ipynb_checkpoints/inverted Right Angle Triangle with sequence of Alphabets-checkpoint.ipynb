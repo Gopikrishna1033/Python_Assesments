{
 "cells": [
  {
   "cell_type": "code",
   "execution_count": 5,
   "id": "893f6b72-0bd6-413e-87e7-9086b154b323",
   "metadata": {},
   "outputs": [
    {
     "name": "stdout",
     "output_type": "stream",
     "text": [
      "A B C D E  \n",
      "B C D E  \n",
      "C D E  \n",
      "D E  \n",
      "E  \n"
     ]
    }
   ],
   "source": [
    "for i in range(65,70):\n",
    "    for j in range(i,70,):\n",
    "        print(chr(j),end=\" \")\n",
    "    print(\" \")"
   ]
  }
 ],
 "metadata": {
  "kernelspec": {
   "display_name": "Python 3 (ipykernel)",
   "language": "python",
   "name": "python3"
  },
  "language_info": {
   "codemirror_mode": {
    "name": "ipython",
    "version": 3
   },
   "file_extension": ".py",
   "mimetype": "text/x-python",
   "name": "python",
   "nbconvert_exporter": "python",
   "pygments_lexer": "ipython3",
   "version": "3.12.5"
  }
 },
 "nbformat": 4,
 "nbformat_minor": 5
}
