{
 "cells": [
  {
   "cell_type": "code",
   "execution_count": 5,
   "id": "bdccd283-510e-408b-882d-cfd2c5d4f03f",
   "metadata": {},
   "outputs": [
    {
     "name": "stdin",
     "output_type": "stream",
     "text": [
      "Enter a integer:  6\n"
     ]
    },
    {
     "name": "stdout",
     "output_type": "stream",
     "text": [
      "* * * * * *  \n",
      "*  \n",
      " \n",
      " \n",
      " \n",
      "*  \n",
      "*  \n",
      " \n",
      " \n",
      " \n",
      "*  \n",
      "*  \n",
      " \n",
      " \n",
      " \n",
      "*  \n",
      "*  \n",
      " \n",
      " \n",
      " \n",
      "*  \n",
      "* * * * * *  \n"
     ]
    }
   ],
   "source": [
    "num = int(input(\"Enter a integer: \"))\n",
    "for i in range(num):\n",
    "    for j in range(num):\n",
    "        if i==0 or i==num-1 or j==0 or j==num-1:\n",
    "                print(\"*\",end=\" \")\n",
    "        else:\n",
    "          print(\" \")\n",
    "    print(\" \" )"
   ]
  }
 ],
 "metadata": {
  "kernelspec": {
   "display_name": "Python 3 (ipykernel)",
   "language": "python",
   "name": "python3"
  },
  "language_info": {
   "codemirror_mode": {
    "name": "ipython",
    "version": 3
   },
   "file_extension": ".py",
   "mimetype": "text/x-python",
   "name": "python",
   "nbconvert_exporter": "python",
   "pygments_lexer": "ipython3",
   "version": "3.12.5"
  }
 },
 "nbformat": 4,
 "nbformat_minor": 5
}
