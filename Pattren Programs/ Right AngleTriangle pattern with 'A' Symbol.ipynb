{
 "cells": [
  {
   "cell_type": "code",
   "execution_count": 1,
   "id": "8cfb0f93-f0f4-4160-be0e-133bf858f120",
   "metadata": {},
   "outputs": [
    {
     "name": "stdout",
     "output_type": "stream",
     "text": [
      "A  \n",
      "A A  \n",
      "A A A  \n",
      "A A A A  \n"
     ]
    }
   ],
   "source": [
    "char = \"A\"\n",
    "for i in range (1,5):\n",
    "    for j in range(1,i+1):\n",
    "        print(char,end=\" \")\n",
    "    print(\" \")"
   ]
  }
 ],
 "metadata": {
  "kernelspec": {
   "display_name": "Python 3 (ipykernel)",
   "language": "python",
   "name": "python3"
  },
  "language_info": {
   "codemirror_mode": {
    "name": "ipython",
    "version": 3
   },
   "file_extension": ".py",
   "mimetype": "text/x-python",
   "name": "python",
   "nbconvert_exporter": "python",
   "pygments_lexer": "ipython3",
   "version": "3.12.5"
  }
 },
 "nbformat": 4,
 "nbformat_minor": 5
}
