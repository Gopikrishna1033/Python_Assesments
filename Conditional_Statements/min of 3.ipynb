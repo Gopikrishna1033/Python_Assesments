{
 "cells": [
  {
   "cell_type": "code",
   "execution_count": null,
   "id": "99a94dbf-0b0e-4083-a69f-bebe358aca85",
   "metadata": {},
   "outputs": [],
   "source": [
    "num = int(input(\"Enter a integer:  \"))\n",
    "num1 = int(input(\"Enter a integer: \"))\n",
    "num2 = int(input(\"Enter a integer: \"))\n",
    "if (num<num1 and num1<num2):\n",
    "    print(f\"{num} is smallest number...\")\n",
    "elif(num1<)"
   ]
  }
 ],
 "metadata": {
  "kernelspec": {
   "display_name": "Python 3 (ipykernel)",
   "language": "python",
   "name": "python3"
  },
  "language_info": {
   "codemirror_mode": {
    "name": "ipython",
    "version": 3
   },
   "file_extension": ".py",
   "mimetype": "text/x-python",
   "name": "python",
   "nbconvert_exporter": "python",
   "pygments_lexer": "ipython3",
   "version": "3.12.5"
  }
 },
 "nbformat": 4,
 "nbformat_minor": 5
}
