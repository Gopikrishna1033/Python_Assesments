{
 "cells": [
  {
   "cell_type": "code",
   "execution_count": 2,
   "id": "ca7a9b82-bc4f-42ff-aadf-1a706822b77c",
   "metadata": {},
   "outputs": [
    {
     "name": "stdin",
     "output_type": "stream",
     "text": [
      "Enter a integer:  1234567\n"
     ]
    },
    {
     "name": "stdout",
     "output_type": "stream",
     "text": [
      "1234567 is not a three digit number...\n"
     ]
    }
   ],
   "source": [
    "num=int(input(\"Enter a integer: \"))\n",
    "if (num>99 and num <=999):\n",
    "    print(f\"{num} is a three digit number...\")\n",
    "else:\n",
    "    print(f\"{num} is not a three digit number...\")"
   ]
  }
 ],
 "metadata": {
  "kernelspec": {
   "display_name": "Python 3 (ipykernel)",
   "language": "python",
   "name": "python3"
  },
  "language_info": {
   "codemirror_mode": {
    "name": "ipython",
    "version": 3
   },
   "file_extension": ".py",
   "mimetype": "text/x-python",
   "name": "python",
   "nbconvert_exporter": "python",
   "pygments_lexer": "ipython3",
   "version": "3.12.5"
  }
 },
 "nbformat": 4,
 "nbformat_minor": 5
}
