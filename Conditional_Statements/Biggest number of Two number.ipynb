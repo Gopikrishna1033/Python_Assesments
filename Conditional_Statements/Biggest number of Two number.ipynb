{
 "cells": [
  {
   "cell_type": "code",
   "execution_count": 3,
   "id": "f0c881cd-c784-4886-9a95-a964ba9117f8",
   "metadata": {},
   "outputs": [
    {
     "name": "stdin",
     "output_type": "stream",
     "text": [
      "Enter a integer:  12\n",
      "Enter a integer:  21\n"
     ]
    },
    {
     "name": "stdout",
     "output_type": "stream",
     "text": [
      "21 is greater than 12\n"
     ]
    }
   ],
   "source": [
    "num = int(input(\"Enter a integer: \"))\n",
    "num1 = int(input(\"Enter a integer: \"))\n",
    "if (num > num1):\n",
    "    print(f\"{num} is greater than {num1}\")\n",
    "else:\n",
    "    print(f\"{num1} is greater than {num}\")"
   ]
  },
  {
   "cell_type": "code",
   "execution_count": null,
   "id": "2a159bb9-7348-4c2e-bedb-fd615850cf51",
   "metadata": {},
   "outputs": [],
   "source": []
  }
 ],
 "metadata": {
  "kernelspec": {
   "display_name": "Python 3 (ipykernel)",
   "language": "python",
   "name": "python3"
  },
  "language_info": {
   "codemirror_mode": {
    "name": "ipython",
    "version": 3
   },
   "file_extension": ".py",
   "mimetype": "text/x-python",
   "name": "python",
   "nbconvert_exporter": "python",
   "pygments_lexer": "ipython3",
   "version": "3.12.5"
  }
 },
 "nbformat": 4,
 "nbformat_minor": 5
}
