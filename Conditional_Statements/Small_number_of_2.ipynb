{
 "cells": [
  {
   "cell_type": "code",
   "execution_count": 2,
   "id": "876271a5-2323-4379-acc7-096f94819e01",
   "metadata": {},
   "outputs": [
    {
     "name": "stdin",
     "output_type": "stream",
     "text": [
      "Enter a integer:  1\n",
      "Enter a integer:  12\n"
     ]
    },
    {
     "name": "stdout",
     "output_type": "stream",
     "text": [
      "1 is Smallest\n"
     ]
    }
   ],
   "source": [
    "num=int(input(\"Enter a integer: \"))\n",
    "num1 = int(input(\"Enter a integer: \"))\n",
    "if (num<num1):\n",
    "    print(f\"{num} is Smallest\")\n",
    "else:\n",
    "    print(f\"{num1} is Smallest\")"
   ]
  }
 ],
 "metadata": {
  "kernelspec": {
   "display_name": "Python 3 (ipykernel)",
   "language": "python",
   "name": "python3"
  },
  "language_info": {
   "codemirror_mode": {
    "name": "ipython",
    "version": 3
   },
   "file_extension": ".py",
   "mimetype": "text/x-python",
   "name": "python",
   "nbconvert_exporter": "python",
   "pygments_lexer": "ipython3",
   "version": "3.12.5"
  }
 },
 "nbformat": 4,
 "nbformat_minor": 5
}
