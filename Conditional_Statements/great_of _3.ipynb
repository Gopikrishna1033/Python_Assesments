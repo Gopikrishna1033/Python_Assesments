{
 "cells": [
  {
   "cell_type": "code",
   "execution_count": 3,
   "id": "8b75d9f0-f978-44ba-a0ea-d01ce55dac93",
   "metadata": {},
   "outputs": [
    {
     "name": "stdin",
     "output_type": "stream",
     "text": [
      "Enter a integer:  12\n",
      "Enter a integer:  10\n",
      "Enter a integer:  11\n"
     ]
    },
    {
     "name": "stdout",
     "output_type": "stream",
     "text": [
      "12 is greatest\n"
     ]
    }
   ],
   "source": [
    "num=int(input(\"Enter a integer: \"))\n",
    "num1 = int(input(\"Enter a integer: \"))\n",
    "num2 = int(input(\"Enter a integer: \"))\n",
    "if (num>num1 and num> num2):\n",
    "    print(f\"{num} is greatest\")\n",
    "elif(num1>num2 and num1>num):\n",
    "    print(f\"{num1} is a greatest\")\n",
    "else:\n",
    "    print(f\"{num2} is greatest\")"
   ]
  },
  {
   "cell_type": "code",
   "execution_count": null,
   "id": "8ff5ad29-7d71-4296-9ea6-ddab29970369",
   "metadata": {},
   "outputs": [],
   "source": []
  }
 ],
 "metadata": {
  "kernelspec": {
   "display_name": "Python 3 (ipykernel)",
   "language": "python",
   "name": "python3"
  },
  "language_info": {
   "codemirror_mode": {
    "name": "ipython",
    "version": 3
   },
   "file_extension": ".py",
   "mimetype": "text/x-python",
   "name": "python",
   "nbconvert_exporter": "python",
   "pygments_lexer": "ipython3",
   "version": "3.12.5"
  }
 },
 "nbformat": 4,
 "nbformat_minor": 5
}
