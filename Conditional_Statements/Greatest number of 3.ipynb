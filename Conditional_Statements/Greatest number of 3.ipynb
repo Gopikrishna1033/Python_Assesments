{
 "cells": [
  {
   "cell_type": "code",
   "execution_count": 3,
   "id": "dd66268c-b1e2-4ead-9cf1-d282ef8d8ef3",
   "metadata": {},
   "outputs": [
    {
     "name": "stdin",
     "output_type": "stream",
     "text": [
      "Enter a integer:  10\n",
      "Enter a integer:  11\n",
      "Enter a integer:  12\n"
     ]
    },
    {
     "name": "stdout",
     "output_type": "stream",
     "text": [
      "12 is greater than 10 and 11\n"
     ]
    }
   ],
   "source": [
    "num = int(input(\"Enter a integer: \"))\n",
    "num1 = int(input(\"Enter a integer: \"))\n",
    "num2 = int(input(\"Enter a integer: \"))\n",
    "if (num > num1 and num > num2):\n",
    "    print(f\"{num} is greater than {num1} and {num2}\")\n",
    "elif (num1 > num2 and num1 > num):\n",
    "    print(f\"{num1} is greater than {num} and {num2}\")\n",
    "else:\n",
    "    print(f\"{num2} is greater than {num} and {num1}\")"
   ]
  }
 ],
 "metadata": {
  "kernelspec": {
   "display_name": "Python 3 (ipykernel)",
   "language": "python",
   "name": "python3"
  },
  "language_info": {
   "codemirror_mode": {
    "name": "ipython",
    "version": 3
   },
   "file_extension": ".py",
   "mimetype": "text/x-python",
   "name": "python",
   "nbconvert_exporter": "python",
   "pygments_lexer": "ipython3",
   "version": "3.12.5"
  }
 },
 "nbformat": 4,
 "nbformat_minor": 5
}
