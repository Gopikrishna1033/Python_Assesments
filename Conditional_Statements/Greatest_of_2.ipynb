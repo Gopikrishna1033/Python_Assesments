{
 "cells": [
  {
   "cell_type": "code",
   "execution_count": 1,
   "id": "3795d8dc-94c0-4a5e-a81d-75b8ec8bb2b0",
   "metadata": {},
   "outputs": [
    {
     "name": "stdin",
     "output_type": "stream",
     "text": [
      "Enter a  integer:  12\n",
      "Enter a  ineger:  21\n"
     ]
    },
    {
     "name": "stdout",
     "output_type": "stream",
     "text": [
      "21 is greatest\n"
     ]
    }
   ],
   "source": [
    "num=int(input(\"Enter a  integer: \"))\n",
    "num1 = int(input(\"Enter a  ineger: \"))\n",
    "if (num > num1):\n",
    "    print(f\"{num} is greatest\")\n",
    "else:\n",
    "    print(f\"{num1} is greatest\")"
   ]
  }
 ],
 "metadata": {
  "kernelspec": {
   "display_name": "Python 3 (ipykernel)",
   "language": "python",
   "name": "python3"
  },
  "language_info": {
   "codemirror_mode": {
    "name": "ipython",
    "version": 3
   },
   "file_extension": ".py",
   "mimetype": "text/x-python",
   "name": "python",
   "nbconvert_exporter": "python",
   "pygments_lexer": "ipython3",
   "version": "3.12.5"
  }
 },
 "nbformat": 4,
 "nbformat_minor": 5
}
