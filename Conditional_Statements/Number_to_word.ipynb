{
 "cells": [
  {
   "cell_type": "code",
   "execution_count": 5,
   "id": "87290a96-6ffc-416e-927f-339aa9bfab23",
   "metadata": {},
   "outputs": [
    {
     "name": "stdin",
     "output_type": "stream",
     "text": [
      "Enter a single digit number:  4\n"
     ]
    },
    {
     "name": "stdout",
     "output_type": "stream",
     "text": [
      "The similar english word for the input 4 is Four\n"
     ]
    }
   ],
   "source": [
    "#Write a program to take a single digit number from the keyboard and print in english?\n",
    "digit = input(\"Enter a single digit number: \")\n",
    "digit_to_words = {\"0\":\"Zero\",\"1\":\"One\",\"2\":\"Two\",\"3\":\"Third\",\"4\":\"Four\",\"5\":\"Five\",\"6\":\"Six\",\"7\":\"Seven\",\"8\":\"Eight\",\"9\":\"Nine\"}\n",
    "if int(digit) <10:\n",
    "    for num in digit_to_words:\n",
    "        if(num==digit):\n",
    "            print(f\"The similar english word for the input {digit} is {digit_to_words[num]}\")\n",
    "else:\n",
    "    print(\"Please enter the number as per the requirement...\")"
   ]
  },
  {
   "cell_type": "markdown",
   "id": "efe3087a-7453-402b-80bf-fed67e16cf3a",
   "metadata": {},
   "source": [
    "# if you want to print the any integer in english words then yiou have to import the library called \"inflect\"\n",
    "# STEP 1: pip install inflect\n",
    "# STEP 2: import the library and write the code\n",
    "\n",
    "# LOGIC\n",
    "---------\n",
    "import inflect\n",
    "\n",
    "p = inflect.engine() # creating the inflect engine\n",
    "\n",
    "number = int(input(\"Enter a integer: \"))\n",
    "\n",
    "if number.isdigit():\n",
    "    english_word = p.number_to_words(number)\n",
    "    print(f\"The English equivalent of {number} is '{english_word}'.\")\n",
    "else:\n",
    "    print(\"Enter a valid number...\")"
   ]
  }
 ],
 "metadata": {
  "kernelspec": {
   "display_name": "Python 3 (ipykernel)",
   "language": "python",
   "name": "python3"
  },
  "language_info": {
   "codemirror_mode": {
    "name": "ipython",
    "version": 3
   },
   "file_extension": ".py",
   "mimetype": "text/x-python",
   "name": "python",
   "nbconvert_exporter": "python",
   "pygments_lexer": "ipython3",
   "version": "3.12.5"
  }
 },
 "nbformat": 4,
 "nbformat_minor": 5
}
