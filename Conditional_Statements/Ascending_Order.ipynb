{
 "cells": [
  {
   "cell_type": "code",
   "execution_count": 1,
   "id": "e5027c73-b51c-48e9-99cf-b4363942ab8c",
   "metadata": {},
   "outputs": [
    {
     "name": "stdout",
     "output_type": "stream",
     "text": [
      "[10, 20, 30, 50, 60]\n"
     ]
    }
   ],
   "source": [
    "num = [50,30,10,60,20]\n",
    "ascen = []\n",
    "while num:\n",
    "    smallest=num[0]\n",
    "    for number in num:\n",
    "        if number < smallest:\n",
    "            smallest=number\n",
    "    ascen.append(smallest)\n",
    "    num.remove(smallest)\n",
    "print(ascen)"
   ]
  },
  {
   "cell_type": "code",
   "execution_count": 2,
   "id": "dbe216f1-e40a-4e54-87bf-8dd9b7d0478c",
   "metadata": {},
   "outputs": [
    {
     "name": "stdout",
     "output_type": "stream",
     "text": [
      "[10, 20, 30, 50, 60]\n"
     ]
    }
   ],
   "source": [
    "# same code can be done as \n",
    "num = [50,30,10,60,20]\n",
    "num.sort() \n",
    "print(num)"
   ]
  }
 ],
 "metadata": {
  "kernelspec": {
   "display_name": "Python 3 (ipykernel)",
   "language": "python",
   "name": "python3"
  },
  "language_info": {
   "codemirror_mode": {
    "name": "ipython",
    "version": 3
   },
   "file_extension": ".py",
   "mimetype": "text/x-python",
   "name": "python",
   "nbconvert_exporter": "python",
   "pygments_lexer": "ipython3",
   "version": "3.12.5"
  }
 },
 "nbformat": 4,
 "nbformat_minor": 5
}
