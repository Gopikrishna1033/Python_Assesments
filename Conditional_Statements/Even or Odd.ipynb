{
 "cells": [
  {
   "cell_type": "code",
   "execution_count": 2,
   "id": "ea2ac79b-541e-41bd-aad2-4e9763377f34",
   "metadata": {},
   "outputs": [
    {
     "name": "stdin",
     "output_type": "stream",
     "text": [
      "Enter a integer:  123\n"
     ]
    },
    {
     "name": "stdout",
     "output_type": "stream",
     "text": [
      "123 is odd number...\n"
     ]
    }
   ],
   "source": [
    "num=int(input(\"Enter a integer: \"))\n",
    "if (num%2==0):\n",
    "    print(f\"{num} is a even number...\")\n",
    "else:\n",
    "    print(f\"{num} is odd number...\")"
   ]
  }
 ],
 "metadata": {
  "kernelspec": {
   "display_name": "Python 3 (ipykernel)",
   "language": "python",
   "name": "python3"
  },
  "language_info": {
   "codemirror_mode": {
    "name": "ipython",
    "version": 3
   },
   "file_extension": ".py",
   "mimetype": "text/x-python",
   "name": "python",
   "nbconvert_exporter": "python",
   "pygments_lexer": "ipython3",
   "version": "3.12.5"
  }
 },
 "nbformat": 4,
 "nbformat_minor": 5
}
